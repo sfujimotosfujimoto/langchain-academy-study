{
 "cells": [
  {
   "cell_type": "markdown",
   "id": "fb0ebaf1",
   "metadata": {},
   "source": [
    "[![Open in Colab](https://colab.research.google.com/assets/colab-badge.svg)](https://colab.research.google.com/github/langchain-ai/langchain-academy/blob/main/module-2/trim-filter-messages.ipynb) [![Open in LangChain Academy](https://cdn.prod.website-files.com/65b8cd72835ceeacd4449a53/66e9eba12c7b7688aa3dbb5e_LCA-badge-green.svg)](https://academy.langchain.com/courses/take/intro-to-langgraph/lessons/58239435-lesson-4-trim-and-filter-messages)"
   ]
  },
  {
   "cell_type": "markdown",
   "id": "c52ea2f9-03ff-4647-b782-46867ebed04e",
   "metadata": {},
   "source": [
    "# Filtering and trimming messages\n",
    "\n",
    "## Review\n",
    "\n",
    "Now, we have a deeper understanding of a few things: \n",
    "\n",
    "* How to customize the graph state schema\n",
    "* How to define custom state reducers\n",
    "* How to use multiple graph state schemas\n",
    "\n",
    "## Goals\n",
    "\n",
    "Now, we can start using these concepts with models in LangGraph!\n",
    " \n",
    "In the next few sessions, we'll build towards a chatbot that has long-term memory.\n",
    "\n",
    "Because our chatbot will use messages, let's first talk a bit more about advanced ways to work with messages in graph state."
   ]
  },
  {
   "cell_type": "code",
   "execution_count": null,
   "id": "d5197aba-5d46-421b-ae3b-4e3034edcfda",
   "metadata": {},
   "outputs": [],
   "source": [
    "%%capture --no-stderr\n",
    "%pip install --quiet -U langchain_core langgraph langchain_openai"
   ]
  },
  {
   "cell_type": "code",
   "execution_count": 1,
   "id": "768dc606-d5f2-468d-96ea-910b264e0f8a",
   "metadata": {},
   "outputs": [],
   "source": [
    "# import os, getpass\n",
    "\n",
    "\n",
    "# def _set_env(var: str):\n",
    "#     if not os.environ.get(var):\n",
    "#         os.environ[var] = getpass.getpass(f\"{var}: \")\n",
    "\n",
    "\n",
    "# _set_env(\"OPENAI_API_KEY\")"
   ]
  },
  {
   "cell_type": "markdown",
   "id": "8b64d8d3-e4ac-4961-bdc0-688825eb5864",
   "metadata": {},
   "source": [
    "We'll use [LangSmith](https://docs.smith.langchain.com/) for [tracing](https://docs.smith.langchain.com/concepts/tracing).\n",
    "\n",
    "We'll log to a project, `langchain-academy`. "
   ]
  },
  {
   "cell_type": "code",
   "execution_count": null,
   "id": "dd020c79",
   "metadata": {},
   "outputs": [],
   "source": [
    "# _set_env(\"LANGSMITH_API_KEY\")\n",
    "# os.environ[\"LANGSMITH_TRACING\"] = \"true\"\n",
    "# os.environ[\"LANGSMITH_PROJECT\"] = \"langchain-academy\""
   ]
  },
  {
   "cell_type": "markdown",
   "id": "72f3fc90-58b6-4f7f-897e-dddf6ae532c7",
   "metadata": {},
   "source": [
    "## Messages as state\n",
    "\n",
    "First, let's define some messages."
   ]
  },
  {
   "cell_type": "code",
   "execution_count": 13,
   "id": "cf11a463-e27a-4a05-b41d-64882e38edca",
   "metadata": {},
   "outputs": [
    {
     "name": "stdout",
     "output_type": "stream",
     "text": [
      "==================================\u001b[1m Ai Message \u001b[0m==================================\n",
      "Name: Bot\n",
      "\n",
      "So you said you were researching ocean mammals?\n",
      "================================\u001b[1m Human Message \u001b[0m=================================\n",
      "Name: Lance\n",
      "\n",
      "Yes, I know about whales. But what others should I learn about?\n"
     ]
    }
   ],
   "source": [
    "from pprint import pprint\n",
    "from langchain_core.messages import AIMessage, HumanMessage, AnyMessage\n",
    "\n",
    "messages: list[AnyMessage] = [\n",
    "    AIMessage(\"So you said you were researching ocean mammals?\", name=\"Bot\")\n",
    "]\n",
    "messages.append(\n",
    "    HumanMessage(\n",
    "        \"Yes, I know about whales. But what others should I learn about?\", name=\"Lance\"\n",
    "    )\n",
    ")\n",
    "\n",
    "for m in messages:\n",
    "    m.pretty_print()"
   ]
  },
  {
   "cell_type": "markdown",
   "id": "b814adcb-6bf9-4b75-be11-e59f933fbd0c",
   "metadata": {},
   "source": [
    "Recall we can pass them to a chat model."
   ]
  },
  {
   "cell_type": "code",
   "execution_count": 14,
   "id": "4712e288-e622-48a2-ad3f-a52f65f3ab08",
   "metadata": {},
   "outputs": [
    {
     "data": {
      "text/plain": [
       "AIMessage(content='Okay, fantastic! Whales are amazing, but the ocean is teeming with incredible marine mammals. Let\\'s broaden your research – here\\'s a breakdown of other fascinating ocean mammals you should explore, categorized for easier exploration:\\n\\n**1. Closely Related to Whales (Cetaceans):**\\n\\n* **Dolphins:**  This is a huge group!\\n    * **Bottlenose Dolphins:** The most well-known, often featured in documentaries. Learn about their intelligence, social structures, and communication.\\n    * **Spinner Dolphins:** Known for their spectacular aerial displays – spinning and leaping out of the water.\\n    * **Orcas (Killer Whales):**  Highly intelligent, apex predators with complex social structures and hunting strategies.  There\\'s a *lot* to learn about their different populations and cultures.\\n    * **Amazon River Dolphins (Pink River Dolphins):** Unique, freshwater dolphins found in South America.\\n* **Porpoises:** Smaller and generally more slender than dolphins. There are several species, including:\\n    * **Harbor Porpoises:** Found in North American coastal waters.\\n    * **Dall’s Porpoises:** Known for their distinctive white patch on their sides.\\n\\n\\n**2. Pinnipeds (Seals, Sea Lions, and Walruses):**\\n\\nThese are the \"true\" seals, and they\\'re incredibly diverse.\\n* **Seals:**  Generally have more streamlined bodies and flippers for swimming.\\n    * **Harbor Seals:** Common in North Atlantic and Pacific waters.\\n    * **Ringed Seals:**  Found in the Arctic and North Atlantic.\\n    * **Elephant Seals:** The largest of all seals, known for their massive breeding colonies.\\n* **Sea Lions:**  Have large, visible ear flaps and are generally more vocal and social than seals.\\n    * **California Sea Lions:**  Very common on the West Coast of North America.\\n    * **Steller Sea Lions:** Found in the North Pacific.\\n* **Walruses:**  Distinctive for their tusks (elongated canine teeth) and thick skin.  They live in Arctic and subarctic waters.\\n\\n\\n\\n**3. Sirenians (Manatees and Dugongs):**\\n\\nThese are gentle giants!\\n* **West Indian Manatees:** Found in the Caribbean and Florida. They\\'re herbivores, feeding on seagrass.\\n* **Amazonian Manatees:** Found in the Amazon River and surrounding coastal waters.\\n* **Dugongs:**  Found in warm, shallow waters of the Indo-Pacific. They also graze on seagrass.\\n\\n\\n\\n**4. Other Less Common, But Fascinating Mammals:**\\n\\n* **Beaked Whales:**  Deep-diving, elusive whales with unique adaptations.  Very little is known about them.\\n* **Sowerby\\'s Beaked Whale:**  One of the rarest whales, known for its deep dives.\\n* **Fiordland Sea Lions:** Found in New Zealand.\\n\\n---\\n\\n**Resources to Get You Started:**\\n\\n* **National Geographic Marine Mammals:** [https://www.nationalgeographic.com/animals/marine-life/ocean-mammals/](https://www.nationalgeographic.com/animals/marine-life/ocean-mammals/)\\n* **World Wildlife Fund - Marine Mammals:** [https://www.worldwildlife.org/species/marine-mammals](https://www.wildlife.org/species/marine-mammals)\\n* **NOAA Marine Mammal Database:** [https://www.fisheries.noaa.gov/nationalmarinemammalprogram/mmdb/](https://www.fisheries.noaa.gov/nationalmarinemammalprogram/mmdb/) (Great for species information and distribution maps)\\n\\n**To help me narrow down what you\\'d like to learn more about, could you tell me:**\\n\\n*   **What specifically interests you about ocean mammals?** (e.g., their behavior, their evolution, conservation, specific species?)\\n*   **Are there any particular regions of the world you\\'re most interested in?** (e.g., Arctic, Pacific, Atlantic, Caribbean?)', additional_kwargs={}, response_metadata={'model': 'gemma3:4b', 'created_at': '2025-10-26T12:20:28.072786Z', 'done': True, 'done_reason': 'stop', 'total_duration': 22366930125, 'load_duration': 2525983625, 'prompt_eval_count': 38, 'prompt_eval_duration': 1093856000, 'eval_count': 882, 'eval_duration': 18286967537, 'model_name': 'gemma3:4b', 'model_provider': 'ollama'}, id='lc_run--24096a66-750f-46ec-a5de-81270373e732-0', usage_metadata={'input_tokens': 38, 'output_tokens': 882, 'total_tokens': 920})"
      ]
     },
     "execution_count": 14,
     "metadata": {},
     "output_type": "execute_result"
    }
   ],
   "source": [
    "from langchain_ollama import ChatOllama\n",
    "\n",
    "# llm = ChatOllama(model=\"gpt-oss:20b\", temperature=0)\n",
    "llm = ChatOllama(model=\"gemma3:4b\", temperature=0)\n",
    "llm.invoke(messages)"
   ]
  },
  {
   "cell_type": "markdown",
   "id": "fbd1dab8-0af8-4621-8264-ce65065f76ec",
   "metadata": {},
   "source": [
    "We can run our chat model in a simple graph with `MessagesState`."
   ]
  },
  {
   "cell_type": "code",
   "execution_count": null,
   "id": "bbd8c39c-633b-4176-9cc6-8318e42bb5dd",
   "metadata": {},
   "outputs": [
    {
     "data": {
      "image/png": "[encoded data removed]",
      "text/plain": [
       "<IPython.core.display.Image object>"
      ]
     },
     "metadata": {},
     "output_type": "display_data"
    }
   ],
   "source": [
    "from IPython.display import Image, display\n",
    "from langgraph.graph import MessagesState\n",
    "from langgraph.graph import StateGraph, START, END\n",
    "\n",
    "\n",
    "# Node\n",
    "def chat_model_node(state: MessagesState):\n",
    "    return {\"messages\": llm.invoke(state[\"messages\"])}\n",
    "\n",
    "\n",
    "# Build graph\n",
    "builder = StateGraph(MessagesState)\n",
    "builder.add_node(\"chat_model\", chat_model_node)\n",
    "\n",
    "builder.add_edge(START, \"chat_model\")\n",
    "builder.add_edge(\"chat_model\", END)\n",
    "graph = builder.compile()\n",
    "\n",
    "# View\n",
    "display(Image(graph.get_graph().draw_mermaid_png()))"
   ]
  },
  {
   "cell_type": "code",
   "execution_count": 6,
   "id": "3a5a3e4a-ccfd-4d14-81f1-f0de6e11a1e4",
   "metadata": {},
   "outputs": [
    {
     "name": "stdout",
     "output_type": "stream",
     "text": [
      "==================================\u001b[1m Ai Message \u001b[0m==================================\n",
      "Name: Bot\n",
      "\n",
      "So you said you were researching ocean mammals?\n",
      "================================\u001b[1m Human Message \u001b[0m=================================\n",
      "Name: Lance\n",
      "\n",
      "Yes, I know about whales. But what others should I learn about?\n",
      "==================================\u001b[1m Ai Message \u001b[0m==================================\n",
      "\n",
      "Okay, fantastic! You've got a great starting point with whales – they’re fascinating! Let’s dive into some other ocean mammal research that’s really interesting. Here’s a breakdown, grouped by level of complexity and what you might find engaging:\n",
      "\n",
      "**1. Beginner-Friendly - Great for a Quick Overview:**\n",
      "\n",
      "* **Sea Lions & Seals:** These are often overlooked, but they’re incredibly diverse and have fascinating social behaviors. Learn about their unique adaptations for swimming, hunting, and communication.\n",
      "* **Dolphins & Porpoises:** These are incredibly intelligent and playful. Their complex communication systems ( whistles and clicks) are a major area of study.  You'll also learn about their role in marine ecosystems.\n",
      "* **Manatees & Dugongs:** These gentle giants are unique to the ocean and have a fascinating evolutionary history. They’re herbivores and are incredibly slow-moving.\n",
      "* **Sea Otters:** These adorable creatures are keystone species, helping to maintain kelp forest health.  Their hunting and social behaviors are also a key area of research.\n",
      "\n",
      "\n",
      "**2. Intermediate - Requires a Bit More Depth:**\n",
      "\n",
      "* **Marine Mammal Migration:**  Understanding *why* whales migrate is crucial. It’s driven by food availability, breeding grounds, and climate change. Research focuses on tracking these movements and predicting changes.\n",
      "* **Ocean Noise Pollution & its Impact:**  Whales rely on sound for communication and navigation.  Human-generated noise (shipping, sonar, etc.) is a major threat.  Research explores how this impacts their behavior, health, and even their ability to find food.\n",
      "* **Plastic Pollution & its Effects:**  Microplastics are accumulating in whale tissues, and scientists are studying how they affect their health and reproduction.\n",
      "* **Genetic Diversity & Conservation:**  Understanding how whale populations are connected and how to protect them requires studying their genetic makeup.  This is vital for long-term survival.\n",
      "* **Deep-Sea Whales & Their Unique Adaptations:**  Whales live in incredibly deep waters, and research is increasingly focused on understanding how they adapt to these extreme conditions – their physiology, behavior, and how they interact with the deep-sea environment.\n",
      "\n",
      "\n",
      "**3. More Advanced - For Those Interested in Specific Areas:**\n",
      "\n",
      "* **Cetacean Vocal Biology:**  The study of whale songs and calls – it’s incredibly complex and reveals a lot about their social lives and intelligence.\n",
      "* **Oceanographic Modeling of Whale Distribution:**  Using computer models to predict where whales are likely to be based on environmental factors.\n",
      "* **The Role of Whales in Ecosystem Dynamics:**  How whales influence the food web, nutrient cycling, and overall health of the ocean.\n",
      "* **The Impact of Climate Change on Whale Populations:**  A rapidly growing area of research, examining how warming waters, ocean acidification, and changes in prey distribution are affecting whale populations.\n",
      "\n",
      "\n",
      "**Resources to Get You Started:**\n",
      "\n",
      "* **Monterey Bay Aquarium's Whale Research:** [https://www.montereybayaquarium.org/whale-research](https://www.montereybayaquarium.org/whale-research) - Excellent overview and research updates.\n",
      "* **National Oceanic and Atmospheric Administration (NOAA) - Marine Mammal Research:** [https://www.noaa.gov/ocean-science/marine-mammals](https://www.noaa.gov/ocean-science/marine-mammals) -  A wealth of data and reports.\n",
      "* **ScienceDirect & Google Scholar:**  (Use these to find peer-reviewed research papers – you can filter by topic)\n",
      "\n",
      "**To help me narrow down what you're most interested in, could you tell me:**\n",
      "\n",
      "*   **What's your current level of knowledge about marine mammals?** (Are you a complete beginner, or do you have some basic understanding?)\n",
      "*   **What specifically interests you about ocean mammals?** (e.g., their intelligence, their social lives, their role in the ocean, conservation issues?)\n"
     ]
    }
   ],
   "source": [
    "mstate: MessagesState = {\"messages\": messages}\n",
    "output = graph.invoke(mstate)\n",
    "for m in output[\"messages\"]:\n",
    "    m.pretty_print()"
   ]
  },
  {
   "cell_type": "markdown",
   "id": "34c33e63-1ef4-412d-bb10-6a1b9e5b35a7",
   "metadata": {},
   "source": [
    "## Reducer\n",
    "\n",
    "A practical challenge when working with messages is managing long-running conversations. \n",
    "\n",
    "Long-running conversations result in high token usage and latency if we are not careful, because we pass a growing list of messages to the model.\n",
    "\n",
    "We have a few ways to address this.\n",
    "\n",
    "First, recall the trick we saw using `RemoveMessage` and the `add_messages` reducer."
   ]
  },
  {
   "cell_type": "code",
   "execution_count": 7,
   "id": "222c6bc5-bb0e-4a43-80f5-c8ec38d99f3a",
   "metadata": {},
   "outputs": [
    {
     "data": {
      "image/png": "[encoded data removed]",
      "text/plain": [
       "<IPython.core.display.Image object>"
      ]
     },
     "metadata": {},
     "output_type": "display_data"
    }
   ],
   "source": [
    "from langchain_core.messages import RemoveMessage\n",
    "\n",
    "\n",
    "# Nodes\n",
    "def filter_messages(state: MessagesState):\n",
    "    # Delete all but the 2 most recent messages\n",
    "    delete_messages = [RemoveMessage(id=m.id) for m in state[\"messages\"][:-2] if m.id]\n",
    "    return {\"messages\": delete_messages}\n",
    "\n",
    "\n",
    "def chat_model_node(state: MessagesState):\n",
    "    return {\"messages\": [llm.invoke(state[\"messages\"])]}\n",
    "\n",
    "\n",
    "# Build graph\n",
    "builder = StateGraph(MessagesState)\n",
    "builder.add_node(\"filter\", filter_messages)\n",
    "builder.add_node(\"chat_model\", chat_model_node)\n",
    "builder.add_edge(START, \"filter\")\n",
    "builder.add_edge(\"filter\", \"chat_model\")\n",
    "builder.add_edge(\"chat_model\", END)\n",
    "graph = builder.compile()\n",
    "\n",
    "# View\n",
    "display(Image(graph.get_graph().draw_mermaid_png()))"
   ]
  },
  {
   "cell_type": "code",
   "execution_count": 8,
   "id": "95a7c2cc-54ce-43e7-9a90-abf37827d709",
   "metadata": {},
   "outputs": [
    {
     "name": "stdout",
     "output_type": "stream",
     "text": [
      "==================================\u001b[1m Ai Message \u001b[0m==================================\n",
      "Name: Bot\n",
      "\n",
      "So you said you were researching ocean mammals?\n",
      "================================\u001b[1m Human Message \u001b[0m=================================\n",
      "Name: Lance\n",
      "\n",
      "Yes, I know about whales. But what others should I learn about?\n",
      "==================================\u001b[1m Ai Message \u001b[0m==================================\n",
      "\n",
      "Okay, fantastic! You've got a great starting point with whales – they’re fascinating! Let’s dive into some other ocean mammal research that’s really interesting. Here’s a breakdown, grouped by level of complexity and what you might find engaging:\n",
      "\n",
      "**1. Beginner-Friendly - Great for a Quick Overview:**\n",
      "\n",
      "* **Sea Lions & Seals:** These are often overlooked, but they’re incredibly diverse and have fascinating social behaviors. Learn about their unique adaptations for swimming, hunting, and communication.\n",
      "* **Dolphins & Porpoises:** These are incredibly intelligent and playful. Their complex communication systems ( whistles and clicks) are a major area of study.  You'll also learn about their role in marine ecosystems.\n",
      "* **Manatees & Dugongs:** These gentle giants are unique to the ocean and have a fascinating evolutionary history. They’re herbivores and are incredibly slow-moving.\n",
      "* **Sea Otters:** These adorable creatures are keystone species, helping to maintain kelp forest health.  Their hunting and social behaviors are also a key area of research.\n",
      "\n",
      "\n",
      "**2. Intermediate - Requires a Bit More Depth:**\n",
      "\n",
      "* **Marine Mammal Migration:**  Understanding *why* whales migrate is crucial. It’s driven by food availability, breeding grounds, and climate change. Research focuses on tracking these movements and predicting changes.\n",
      "* **Ocean Noise Pollution & its Impact:**  Whales rely on sound for communication and navigation.  Human-generated noise (shipping, sonar, etc.) is a major threat.  Research explores how this impacts their behavior, health, and even their ability to find food.\n",
      "* **Plastic Pollution & its Effects:**  Microplastics are accumulating in whale tissues, and scientists are studying how they affect their health and reproduction.\n",
      "* **Genetic Diversity & Conservation:**  Understanding how whale populations are connected and how to protect them requires studying their genetic makeup.  This is vital for long-term survival.\n",
      "* **Deep-Sea Whales & Their Unique Adaptations:**  Whales live in incredibly deep waters, and research is increasingly focused on understanding how they adapt to these extreme conditions – their physiology, behavior, and how they interact with the deep-sea environment.\n",
      "\n",
      "\n",
      "**3. More Advanced - For Those Interested in Specific Areas:**\n",
      "\n",
      "* **Cetacean Vocal Biology:**  The study of whale songs and calls – it’s incredibly complex and reveals a lot about their social lives and intelligence.\n",
      "* **Oceanographic Modeling of Whale Distribution:**  Using computer models to predict where whales are likely to be based on environmental factors.\n",
      "* **The Role of Whales in Ecosystem Dynamics:**  How whales influence the food web, nutrient cycling, and overall health of the ocean.\n",
      "* **The Impact of Climate Change on Whale Populations:**  A rapidly growing area of research, examining how warming waters, ocean acidification, and changes in prey distribution are affecting whale populations.\n",
      "\n",
      "\n",
      "**Resources to Get You Started:**\n",
      "\n",
      "* **Monterey Bay Aquarium's Whale Research:** [https://www.montereybayaquarium.org/whale-research](https://www.montereybayaquarium.org/whale-research) - Excellent overview and research updates.\n",
      "* **National Oceanic and Atmospheric Administration (NOAA) - Marine Mammal Research:** [https://www.noaa.gov/ocean-science/marine-mammals](https://www.noaa.gov/ocean-science/marine-mammals) -  A wealth of data and reports.\n",
      "* **ScienceDirect & Google Scholar:**  (Use these to find peer-reviewed research papers – you can filter by topic)\n",
      "\n",
      "**To help me narrow down what you're most interested in, could you tell me:**\n",
      "\n",
      "*   **What's your current level of knowledge about marine mammals?** (Are you a complete beginner, or do you have some basic understanding?)\n",
      "*   **What specifically interests you about ocean mammals?** (e.g., their intelligence, their social lives, their role in the ocean, conservation issues?)\n"
     ]
    }
   ],
   "source": [
    "# Message list with a preamble\n",
    "messages: list[AnyMessage] = [AIMessage(\"Hi.\", name=\"Bot\", id=\"1\")]\n",
    "messages.append(HumanMessage(\"Hi.\", name=\"Lance\", id=\"2\"))\n",
    "messages.append(\n",
    "    AIMessage(\"So you said you were researching ocean mammals?\", name=\"Bot\", id=\"3\")\n",
    ")\n",
    "messages.append(\n",
    "    HumanMessage(\n",
    "        \"Yes, I know about whales. But what others should I learn about?\",\n",
    "        name=\"Lance\",\n",
    "        id=\"4\",\n",
    "    )\n",
    ")\n",
    "\n",
    "mstate: MessagesState = {\"messages\": messages}\n",
    "\n",
    "# Invoke\n",
    "output = graph.invoke({\"messages\": messages})\n",
    "for m in output[\"messages\"]:\n",
    "    m.pretty_print()"
   ]
  },
  {
   "cell_type": "markdown",
   "id": "f506457d-014b-4fee-a684-e5edfb4b8f0d",
   "metadata": {},
   "source": [
    "## Filtering messages\n",
    "\n",
    "If you don't need or want to modify the graph state, you can just filter the messages you pass to the chat model.\n",
    "\n",
    "For example, just pass in a filtered list: `llm.invoke(messages[-1:])` to the model."
   ]
  },
  {
   "cell_type": "code",
   "execution_count": 9,
   "id": "22d0b904-7cd6-486b-8948-105bee3d4683",
   "metadata": {},
   "outputs": [
    {
     "data": {
      "image/png": "[encoded data removed]",
      "text/plain": [
       "<IPython.core.display.Image object>"
      ]
     },
     "metadata": {},
     "output_type": "display_data"
    }
   ],
   "source": [
    "# Node\n",
    "def chat_model_node(state: MessagesState):\n",
    "    return {\"messages\": [llm.invoke(state[\"messages\"][-1:])]}\n",
    "\n",
    "\n",
    "# Build graph\n",
    "builder = StateGraph(MessagesState)\n",
    "builder.add_node(\"chat_model\", chat_model_node)\n",
    "builder.add_edge(START, \"chat_model\")\n",
    "builder.add_edge(\"chat_model\", END)\n",
    "graph = builder.compile()\n",
    "\n",
    "# View\n",
    "display(Image(graph.get_graph().draw_mermaid_png()))"
   ]
  },
  {
   "cell_type": "markdown",
   "id": "6f58c6fc-532f-418d-b70a-cfcb3307daf5",
   "metadata": {},
   "source": [
    "Let's take our existing list of messages, append the above LLM response, and append a follow-up question."
   ]
  },
  {
   "cell_type": "code",
   "execution_count": 10,
   "id": "16956015-1dbe-4108-89b5-4209b68b51ca",
   "metadata": {},
   "outputs": [],
   "source": [
    "messages.append(output[\"messages\"][-1])\n",
    "messages.append(HumanMessage(\"Tell me more about Narwhals!\", name=\"Lance\"))"
   ]
  },
  {
   "cell_type": "code",
   "execution_count": 11,
   "id": "85563415-c085-46a8-a4ac-155df798c54e",
   "metadata": {},
   "outputs": [
    {
     "name": "stdout",
     "output_type": "stream",
     "text": [
      "==================================\u001b[1m Ai Message \u001b[0m==================================\n",
      "Name: Bot\n",
      "\n",
      "Hi.\n",
      "================================\u001b[1m Human Message \u001b[0m=================================\n",
      "Name: Lance\n",
      "\n",
      "Hi.\n",
      "==================================\u001b[1m Ai Message \u001b[0m==================================\n",
      "Name: Bot\n",
      "\n",
      "So you said you were researching ocean mammals?\n",
      "================================\u001b[1m Human Message \u001b[0m=================================\n",
      "Name: Lance\n",
      "\n",
      "Yes, I know about whales. But what others should I learn about?\n",
      "==================================\u001b[1m Ai Message \u001b[0m==================================\n",
      "\n",
      "Okay, fantastic! You've got a great starting point with whales – they’re fascinating! Let’s dive into some other ocean mammal research that’s really interesting. Here’s a breakdown, grouped by level of complexity and what you might find engaging:\n",
      "\n",
      "**1. Beginner-Friendly - Great for a Quick Overview:**\n",
      "\n",
      "* **Sea Lions & Seals:** These are often overlooked, but they’re incredibly diverse and have fascinating social behaviors. Learn about their unique adaptations for swimming, hunting, and communication.\n",
      "* **Dolphins & Porpoises:** These are incredibly intelligent and playful. Their complex communication systems ( whistles and clicks) are a major area of study.  You'll also learn about their role in marine ecosystems.\n",
      "* **Manatees & Dugongs:** These gentle giants are unique to the ocean and have a fascinating evolutionary history. They’re herbivores and are incredibly slow-moving.\n",
      "* **Sea Otters:** These adorable creatures are keystone species, helping to maintain kelp forest health.  Their hunting and social behaviors are also a key area of research.\n",
      "\n",
      "\n",
      "**2. Intermediate - Requires a Bit More Depth:**\n",
      "\n",
      "* **Marine Mammal Migration:**  Understanding *why* whales migrate is crucial. It’s driven by food availability, breeding grounds, and climate change. Research focuses on tracking these movements and predicting changes.\n",
      "* **Ocean Noise Pollution & its Impact:**  Whales rely on sound for communication and navigation.  Human-generated noise (shipping, sonar, etc.) is a major threat.  Research explores how this impacts their behavior, health, and even their ability to find food.\n",
      "* **Plastic Pollution & its Effects:**  Microplastics are accumulating in whale tissues, and scientists are studying how they affect their health and reproduction.\n",
      "* **Genetic Diversity & Conservation:**  Understanding how whale populations are connected and how to protect them requires studying their genetic makeup.  This is vital for long-term survival.\n",
      "* **Deep-Sea Whales & Their Unique Adaptations:**  Whales live in incredibly deep waters, and research is increasingly focused on understanding how they adapt to these extreme conditions – their physiology, behavior, and how they interact with the deep-sea environment.\n",
      "\n",
      "\n",
      "**3. More Advanced - For Those Interested in Specific Areas:**\n",
      "\n",
      "* **Cetacean Vocal Biology:**  The study of whale songs and calls – it’s incredibly complex and reveals a lot about their social lives and intelligence.\n",
      "* **Oceanographic Modeling of Whale Distribution:**  Using computer models to predict where whales are likely to be based on environmental factors.\n",
      "* **The Role of Whales in Ecosystem Dynamics:**  How whales influence the food web, nutrient cycling, and overall health of the ocean.\n",
      "* **The Impact of Climate Change on Whale Populations:**  A rapidly growing area of research, examining how warming waters, ocean acidification, and changes in prey distribution are affecting whale populations.\n",
      "\n",
      "\n",
      "**Resources to Get You Started:**\n",
      "\n",
      "* **Monterey Bay Aquarium's Whale Research:** [https://www.montereybayaquarium.org/whale-research](https://www.montereybayaquarium.org/whale-research) - Excellent overview and research updates.\n",
      "* **National Oceanic and Atmospheric Administration (NOAA) - Marine Mammal Research:** [https://www.noaa.gov/ocean-science/marine-mammals](https://www.noaa.gov/ocean-science/marine-mammals) -  A wealth of data and reports.\n",
      "* **ScienceDirect & Google Scholar:**  (Use these to find peer-reviewed research papers – you can filter by topic)\n",
      "\n",
      "**To help me narrow down what you're most interested in, could you tell me:**\n",
      "\n",
      "*   **What's your current level of knowledge about marine mammals?** (Are you a complete beginner, or do you have some basic understanding?)\n",
      "*   **What specifically interests you about ocean mammals?** (e.g., their intelligence, their social lives, their role in the ocean, conservation issues?)\n",
      "================================\u001b[1m Human Message \u001b[0m=================================\n",
      "Name: Lance\n",
      "\n",
      "Tell me more about Narwhals!\n"
     ]
    }
   ],
   "source": [
    "for m in messages:\n",
    "    m.pretty_print()"
   ]
  },
  {
   "cell_type": "code",
   "execution_count": 12,
   "id": "23349705-a059-47b5-9760-d8f64e687393",
   "metadata": {},
   "outputs": [
    {
     "name": "stdout",
     "output_type": "stream",
     "text": [
      "==================================\u001b[1m Ai Message \u001b[0m==================================\n",
      "Name: Bot\n",
      "\n",
      "Hi.\n",
      "================================\u001b[1m Human Message \u001b[0m=================================\n",
      "Name: Lance\n",
      "\n",
      "Hi.\n",
      "==================================\u001b[1m Ai Message \u001b[0m==================================\n",
      "Name: Bot\n",
      "\n",
      "So you said you were researching ocean mammals?\n",
      "================================\u001b[1m Human Message \u001b[0m=================================\n",
      "Name: Lance\n",
      "\n",
      "Yes, I know about whales. But what others should I learn about?\n",
      "==================================\u001b[1m Ai Message \u001b[0m==================================\n",
      "\n",
      "Okay, fantastic! You've got a great starting point with whales – they’re fascinating! Let’s dive into some other ocean mammal research that’s really interesting. Here’s a breakdown, grouped by level of complexity and what you might find engaging:\n",
      "\n",
      "**1. Beginner-Friendly - Great for a Quick Overview:**\n",
      "\n",
      "* **Sea Lions & Seals:** These are often overlooked, but they’re incredibly diverse and have fascinating social behaviors. Learn about their unique adaptations for swimming, hunting, and communication.\n",
      "* **Dolphins & Porpoises:** These are incredibly intelligent and playful. Their complex communication systems ( whistles and clicks) are a major area of study.  You'll also learn about their role in marine ecosystems.\n",
      "* **Manatees & Dugongs:** These gentle giants are unique to the ocean and have a fascinating evolutionary history. They’re herbivores and are incredibly slow-moving.\n",
      "* **Sea Otters:** These adorable creatures are keystone species, helping to maintain kelp forest health.  Their hunting and social behaviors are also a key area of research.\n",
      "\n",
      "\n",
      "**2. Intermediate - Requires a Bit More Depth:**\n",
      "\n",
      "* **Marine Mammal Migration:**  Understanding *why* whales migrate is crucial. It’s driven by food availability, breeding grounds, and climate change. Research focuses on tracking these movements and predicting changes.\n",
      "* **Ocean Noise Pollution & its Impact:**  Whales rely on sound for communication and navigation.  Human-generated noise (shipping, sonar, etc.) is a major threat.  Research explores how this impacts their behavior, health, and even their ability to find food.\n",
      "* **Plastic Pollution & its Effects:**  Microplastics are accumulating in whale tissues, and scientists are studying how they affect their health and reproduction.\n",
      "* **Genetic Diversity & Conservation:**  Understanding how whale populations are connected and how to protect them requires studying their genetic makeup.  This is vital for long-term survival.\n",
      "* **Deep-Sea Whales & Their Unique Adaptations:**  Whales live in incredibly deep waters, and research is increasingly focused on understanding how they adapt to these extreme conditions – their physiology, behavior, and how they interact with the deep-sea environment.\n",
      "\n",
      "\n",
      "**3. More Advanced - For Those Interested in Specific Areas:**\n",
      "\n",
      "* **Cetacean Vocal Biology:**  The study of whale songs and calls – it’s incredibly complex and reveals a lot about their social lives and intelligence.\n",
      "* **Oceanographic Modeling of Whale Distribution:**  Using computer models to predict where whales are likely to be based on environmental factors.\n",
      "* **The Role of Whales in Ecosystem Dynamics:**  How whales influence the food web, nutrient cycling, and overall health of the ocean.\n",
      "* **The Impact of Climate Change on Whale Populations:**  A rapidly growing area of research, examining how warming waters, ocean acidification, and changes in prey distribution are affecting whale populations.\n",
      "\n",
      "\n",
      "**Resources to Get You Started:**\n",
      "\n",
      "* **Monterey Bay Aquarium's Whale Research:** [https://www.montereybayaquarium.org/whale-research](https://www.montereybayaquarium.org/whale-research) - Excellent overview and research updates.\n",
      "* **National Oceanic and Atmospheric Administration (NOAA) - Marine Mammal Research:** [https://www.noaa.gov/ocean-science/marine-mammals](https://www.noaa.gov/ocean-science/marine-mammals) -  A wealth of data and reports.\n",
      "* **ScienceDirect & Google Scholar:**  (Use these to find peer-reviewed research papers – you can filter by topic)\n",
      "\n",
      "**To help me narrow down what you're most interested in, could you tell me:**\n",
      "\n",
      "*   **What's your current level of knowledge about marine mammals?** (Are you a complete beginner, or do you have some basic understanding?)\n",
      "*   **What specifically interests you about ocean mammals?** (e.g., their intelligence, their social lives, their role in the ocean, conservation issues?)\n",
      "================================\u001b[1m Human Message \u001b[0m=================================\n",
      "Name: Lance\n",
      "\n",
      "Tell me more about Narwhals!\n",
      "==================================\u001b[1m Ai Message \u001b[0m==================================\n",
      "\n",
      "Okay, let's dive into the fascinating world of Narwhals! They're truly unique and captivating creatures. Here's a breakdown of what you need to know, covering their biology, behavior, habitat, and conservation status:\n",
      "\n",
      "**1. What *Are* Narwhals?**\n",
      "\n",
      "* **They're Whales, But Not True Whales:** This is a crucial point. Narwhals are *odontocetes*, which means they're toothed whales. However, they're *not* whales because they lack a true dorsal fin and blowhole. Instead, they have a distinctive, elongated, spiraled tooth.\n",
      "* **Appearance:** They're relatively small, averaging about 6-8 feet (1.8-2.4 meters) long. They have a sleek, streamlined body, dark gray or bluish-gray skin, and a prominent, curved horn on their snout.\n",
      "* **Distinctive Feature: The Tooth:** The most recognizable feature is the long, spiraled tooth they use for defense and communication. It's incredibly long (up to 10 inches or 25 cm) and is a pale, almost translucent white.\n",
      "\n",
      "**2. Biology & Physiology**\n",
      "\n",
      "* **Diet:** Narwhals are primarily baleen whales, meaning they filter feed using baleen plates in their mouths. They eat primarily krill, small crustaceans, and plankton.\n",
      "* **Heart & Circulation:** They have a unique heart structure that allows them to efficiently extract oxygen from the water.  They have a \"double-chambered heart\" – meaning they have two distinct circulatory systems.\n",
      "* **Slow Metabolism:** Narwhals have a remarkably slow metabolism, which contributes to their longevity. They can live for 80-90 years in the wild.\n",
      "* **Unique Vocalizations:** They communicate through a complex system of whistles and clicks, which are incredibly difficult to hear.\n",
      "\n",
      "**3. Habitat & Distribution**\n",
      "\n",
      "* **North Atlantic Ocean:** Narwhals are found exclusively in the North Atlantic Ocean, primarily in Canada, Greenland, Norway, Iceland, and Russia.\n",
      "* **Deep Water:** They prefer deep, cold waters, typically between 1,000 and 3,000 feet (300-914 meters).\n",
      "* **Specific Locations:** They are particularly concentrated around the Labrador Sea and the North Atlantic Ridge.\n",
      "\n",
      "**4. Behavior & Social Life**\n",
      "\n",
      "* **Solitary Creatures:** Narwhals are generally solitary animals, except during mating season.\n",
      "* **Communication:** They use their whistles and clicks to communicate with each other, often in complex patterns.\n",
      "* **Mating Rituals:** Mating behavior is still somewhat mysterious, but it involves elaborate displays and vocalizations.\n",
      "* **Hunting:** They are opportunistic hunters, taking advantage of prey in the water.\n",
      "\n",
      "**5. Conservation Status & Threats**\n",
      "\n",
      "* **Vulnerable:** Narwhals are currently listed as \"Vulnerable\" by the IUCN (International Union for Conservation of Nature).\n",
      "* **Threats:**\n",
      "    * **Poaching:** Historically, narwhals were hunted for their teeth, which were believed to have medicinal properties. While poaching has decreased, it remains a concern.\n",
      "    * **Bycatch:** They can be accidentally caught in fishing gear, particularly in areas where they frequent deep waters.\n",
      "    * **Climate Change:** Changes in ocean currents and water temperature could impact their habitat and prey availability.\n",
      "    * **Human Development:**  Coastal development and disturbance of their habitat pose a threat.\n",
      "\n",
      "\n",
      "**6. Recent Research & Discoveries**\n",
      "\n",
      "* **Genetic Studies:** Recent genetic research has revealed that narwhals are more closely related to sperm whales than previously thought, suggesting a shared evolutionary history.\n",
      "* **Tooth Morphology:** Scientists are studying the unique shape and structure of their teeth to understand their evolutionary adaptations.\n",
      "* **Population Estimates:**  Population estimates are still relatively low, making them a vulnerable species.\n",
      "\n",
      "\n",
      "**Resources for Further Learning:**\n",
      "\n",
      "* **IUCN (International Union for Conservation of Nature):** [https://www.iucn.org/species/narwhals](https://www.iucn.org/species/narwhals)\n",
      "* **National Geographic - Narwhals:** [https://www.nationalgeographic.com/animals/species/137977/narwhal/](https://www.nationalgeographic.com/animals/species/137977/narwhal/)\n",
      "* **Smithsonian Magazine - Narwhals:** [https://www.smithsonianmag.com/science-nature/narwhals-unique-whales-like-animals-186778666/](https://www.smithsonianmag.com/science-nature/narwhals-unique-whales-like-animals-186778666/)\n",
      "\n",
      "\n",
      "---\n",
      "\n",
      "Do you have any specific aspects of narwhals you'd like me to elaborate on? For example, are you interested in:\n",
      "\n",
      "*   Their teeth?\n",
      "*   Their social behavior?\n",
      "*   Conservation efforts?\n"
     ]
    }
   ],
   "source": [
    "# Invoke, using message filtering\n",
    "output = graph.invoke({\"messages\": messages})\n",
    "for m in output[\"messages\"]:\n",
    "    m.pretty_print()"
   ]
  },
  {
   "cell_type": "markdown",
   "id": "42e1d8d2-e297-4d78-b54c-d12b3c866745",
   "metadata": {},
   "source": [
    "The state has all of the mesages.\n",
    "\n",
    "But, let's look at the LangSmith trace to see that the model invocation only uses the last message:\n",
    "\n",
    "https://smith.langchain.com/public/75aca3ce-ef19-4b92-94be-0178c7a660d9/r"
   ]
  },
  {
   "cell_type": "markdown",
   "id": "fc40d930-3c1f-47fe-8d2a-ce174873353c",
   "metadata": {},
   "source": [
    "## Trim messages\n",
    "\n",
    "Another approach is to [trim messages](https://python.langchain.com/v0.2/docs/how_to/trim_messages/#getting-the-last-max_tokens-tokens), based upon a set number of tokens. \n",
    "\n",
    "This restricts the message history to a specified number of tokens.\n",
    "\n",
    "While filtering only returns a post-hoc subset of the messages between agents, trimming restricts the number of tokens that a chat model can use to respond.\n",
    "\n",
    "See the `trim_messages` below."
   ]
  },
  {
   "cell_type": "code",
   "execution_count": null,
   "id": "2ff99b81-cf03-4cc2-b44f-44829a73e1fd",
   "metadata": {},
   "outputs": [
    {
     "data": {
      "image/jpeg": "[encoded data removed]",
      "text/plain": [
       "<IPython.core.display.Image object>"
      ]
     },
     "metadata": {},
     "output_type": "display_data"
    }
   ],
   "source": [
    "from langchain_core.messages import trim_messages\n",
    "\n",
    "\n",
    "# Node\n",
    "def chat_model_node(state: MessagesState):\n",
    "    messages = trim_messages(\n",
    "        state[\"messages\"],\n",
    "        max_tokens=100,\n",
    "        strategy=\"last\",\n",
    "        token_counter=ChatOpenAI(model=\"gpt-4o\"),\n",
    "        allow_partial=False,\n",
    "    )\n",
    "    return {\"messages\": [llm.invoke(messages)]}\n",
    "\n",
    "\n",
    "# Build graph\n",
    "builder = StateGraph(MessagesState)\n",
    "builder.add_node(\"chat_model\", chat_model_node)\n",
    "builder.add_edge(START, \"chat_model\")\n",
    "builder.add_edge(\"chat_model\", END)\n",
    "graph = builder.compile()\n",
    "\n",
    "# View\n",
    "display(Image(graph.get_graph().draw_mermaid_png()))"
   ]
  },
  {
   "cell_type": "code",
   "execution_count": null,
   "id": "24df63ac-da29-4874-b3df-7e390e97cc8a",
   "metadata": {},
   "outputs": [],
   "source": [
    "messages.append(output[\"messages\"][-1])\n",
    "messages.append(HumanMessage(f\"Tell me where Orcas live!\", name=\"Lance\"))"
   ]
  },
  {
   "cell_type": "code",
   "execution_count": null,
   "id": "6d9d8971-c75c-43ca-a209-eb1d07b2ead0",
   "metadata": {},
   "outputs": [
    {
     "data": {
      "text/plain": [
       "[HumanMessage(content='Tell me where Orcas live!', name='Lance')]"
      ]
     },
     "execution_count": 17,
     "metadata": {},
     "output_type": "execute_result"
    }
   ],
   "source": [
    "# Example of trimming messages\n",
    "trim_messages(\n",
    "    messages,\n",
    "    max_tokens=100,\n",
    "    strategy=\"last\",\n",
    "    token_counter=ChatOpenAI(model=\"gpt-4o\"),\n",
    "    allow_partial=False,\n",
    ")"
   ]
  },
  {
   "cell_type": "code",
   "execution_count": null,
   "id": "ed70a269-a869-4fa0-a1df-29736a432c51",
   "metadata": {},
   "outputs": [],
   "source": [
    "# Invoke, using message trimming in the chat_model_node\n",
    "messages_out_trim = graph.invoke({\"messages\": messages})"
   ]
  },
  {
   "cell_type": "markdown",
   "id": "38b3db67-380e-46b5-9a6a-20100ba52008",
   "metadata": {},
   "source": [
    "Let's look at the LangSmith trace to see the model invocation:\n",
    "\n",
    "https://smith.langchain.com/public/b153f7e9-f1a5-4d60-8074-f0d7ab5b42ef/r"
   ]
  }
 ],
 "metadata": {
  "kernelspec": {
   "display_name": "251025-langchainacademy",
   "language": "python",
   "name": "python3"
  },
  "language_info": {
   "codemirror_mode": {
    "name": "ipython",
    "version": 3
   },
   "file_extension": ".py",
   "mimetype": "text/x-python",
   "name": "python",
   "nbconvert_exporter": "python",
   "pygments_lexer": "ipython3",
   "version": "3.13.5"
  }
 },
 "nbformat": 4,
 "nbformat_minor": 5
}
